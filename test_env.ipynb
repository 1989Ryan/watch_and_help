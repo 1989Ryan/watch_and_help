{
 "cells": [
  {
   "cell_type": "code",
   "execution_count": 18,
   "metadata": {},
   "outputs": [],
   "source": [
    "import sys\n",
    "sys.path.append('../vh_mdp/')\n",
    "sys.path.append('../virtualhome/')\n",
    "\n",
    "import interface.envs.envs as env\n",
    "import pickle"
   ]
  },
  {
   "cell_type": "code",
   "execution_count": 21,
   "metadata": {},
   "outputs": [],
   "source": [
    "\n",
    "data = pickle.load(open('initial_environments/data/init_envs/init1_10.p', 'rb'))\n",
    "init_graph = data[0]['init_graph']\n",
    "\n",
    "# id2node = {node['id']: node for node in init_graph['nodes']}\n",
    "# print([(id2node[edge['from_id']]['class_name'], edge['from_id'], id2node[edge['to_id']]['class_name'], edge['to_id']) for edge in init_graph['edges'] if id2node[edge['from_id']]['class_name'] == 'wineglass'])\n",
    "# print([(id2node[edge['from_id']]['class_name'], edge['from_id'], id2node[edge['to_id']]['class_name'], edge['to_id']) for edge in init_graph['edges'] if edge['from_id'] == 115])\n",
    "# ipdb.set_trace()\n",
    "\n",
    "env_task_set = [{\n",
    "    'env_id': 0,\n",
    "    'task_id': 0,\n",
    "    'task_name': 'setup_table',\n",
    "    'init_graph': init_graph,\n",
    "    'init_rooms': [76, 210],\n",
    "    'level': 0,\n",
    "    'task_goal': {agent_id: {'on_dishbowl_235': 1} for agent_id in range(2)}\n",
    "}]\n",
    "unity_env = env.UnityEnv(simulator_type='unity', env_task_set=env_task_set)"
   ]
  },
  {
   "cell_type": "code",
   "execution_count": 23,
   "metadata": {
    "scrolled": true
   },
   "outputs": [
    {
     "name": "stdout",
     "output_type": "stream",
     "text": [
      "env_id: 0\n",
      "task_name: setup_table\n",
      "goals: {'on_dishbowl_235': 1}\n"
     ]
    }
   ],
   "source": [
    "_ = unity_env.reset()"
   ]
  },
  {
   "cell_type": "code",
   "execution_count": 30,
   "metadata": {},
   "outputs": [],
   "source": [
    "aux = unity_env.get_observations()"
   ]
  },
  {
   "cell_type": "code",
   "execution_count": 65,
   "metadata": {},
   "outputs": [],
   "source": [
    "import matplotlib.pyplot as plt\n",
    "import numpy as np"
   ]
  },
  {
   "cell_type": "code",
   "execution_count": 66,
   "metadata": {},
   "outputs": [],
   "source": [
    "image = (aux[0]['image'][0].transpose(0,1).transpose(1,2).numpy()*255).astype(np.uint8)"
   ]
  },
  {
   "cell_type": "code",
   "execution_count": 67,
   "metadata": {},
   "outputs": [
    {
     "data": {
      "text/plain": [
       "[<matplotlib.lines.Line2D at 0x7f5a3012e9d0>,\n",
       " <matplotlib.lines.Line2D at 0x7f5a301dc1d0>,\n",
       " <matplotlib.lines.Line2D at 0x7f5a301c7310>,\n",
       " <matplotlib.lines.Line2D at 0x7f5a087900d0>,\n",
       " <matplotlib.lines.Line2D at 0x7f5a08790510>,\n",
       " <matplotlib.lines.Line2D at 0x7f5a087906d0>,\n",
       " <matplotlib.lines.Line2D at 0x7f5a08790910>,\n",
       " <matplotlib.lines.Line2D at 0x7f5a08790ad0>,\n",
       " <matplotlib.lines.Line2D at 0x7f5a08790c90>,\n",
       " <matplotlib.lines.Line2D at 0x7f5a08790710>,\n",
       " <matplotlib.lines.Line2D at 0x7f5a08790fd0>,\n",
       " <matplotlib.lines.Line2D at 0x7f5a087941d0>,\n",
       " <matplotlib.lines.Line2D at 0x7f5a08794390>,\n",
       " <matplotlib.lines.Line2D at 0x7f5a08794550>,\n",
       " <matplotlib.lines.Line2D at 0x7f5a08794710>,\n",
       " <matplotlib.lines.Line2D at 0x7f5a087948d0>,\n",
       " <matplotlib.lines.Line2D at 0x7f5a08794a90>,\n",
       " <matplotlib.lines.Line2D at 0x7f5a08794c50>,\n",
       " <matplotlib.lines.Line2D at 0x7f5a08794e10>,\n",
       " <matplotlib.lines.Line2D at 0x7f5a08794fd0>,\n",
       " <matplotlib.lines.Line2D at 0x7f5a087981d0>,\n",
       " <matplotlib.lines.Line2D at 0x7f5a08798390>,\n",
       " <matplotlib.lines.Line2D at 0x7f5a08798550>,\n",
       " <matplotlib.lines.Line2D at 0x7f5a08798710>,\n",
       " <matplotlib.lines.Line2D at 0x7f5a08798950>,\n",
       " <matplotlib.lines.Line2D at 0x7f5a08798b10>,\n",
       " <matplotlib.lines.Line2D at 0x7f5a08798cd0>,\n",
       " <matplotlib.lines.Line2D at 0x7f5a08798e90>,\n",
       " <matplotlib.lines.Line2D at 0x7f5a0879b090>,\n",
       " <matplotlib.lines.Line2D at 0x7f5a0879b250>,\n",
       " <matplotlib.lines.Line2D at 0x7f5a0879b410>,\n",
       " <matplotlib.lines.Line2D at 0x7f5a0879b5d0>,\n",
       " <matplotlib.lines.Line2D at 0x7f5a0879b790>,\n",
       " <matplotlib.lines.Line2D at 0x7f5a0879b950>,\n",
       " <matplotlib.lines.Line2D at 0x7f5a0879bb10>,\n",
       " <matplotlib.lines.Line2D at 0x7f5a0879bcd0>,\n",
       " <matplotlib.lines.Line2D at 0x7f5a0879be90>,\n",
       " <matplotlib.lines.Line2D at 0x7f5a0879f090>,\n",
       " <matplotlib.lines.Line2D at 0x7f5a0879f250>,\n",
       " <matplotlib.lines.Line2D at 0x7f5a0879f410>,\n",
       " <matplotlib.lines.Line2D at 0x7f5a0879f5d0>,\n",
       " <matplotlib.lines.Line2D at 0x7f5a0879f790>,\n",
       " <matplotlib.lines.Line2D at 0x7f5a0879f950>,\n",
       " <matplotlib.lines.Line2D at 0x7f5a0879fb10>,\n",
       " <matplotlib.lines.Line2D at 0x7f5a0879fcd0>,\n",
       " <matplotlib.lines.Line2D at 0x7f5a0879fe90>,\n",
       " <matplotlib.lines.Line2D at 0x7f5a087a4090>,\n",
       " <matplotlib.lines.Line2D at 0x7f5a087a4250>,\n",
       " <matplotlib.lines.Line2D at 0x7f5a087a4410>,\n",
       " <matplotlib.lines.Line2D at 0x7f5a087a45d0>,\n",
       " <matplotlib.lines.Line2D at 0x7f5a087a4790>,\n",
       " <matplotlib.lines.Line2D at 0x7f5a087a4950>,\n",
       " <matplotlib.lines.Line2D at 0x7f5a087a4b10>,\n",
       " <matplotlib.lines.Line2D at 0x7f5a087a4cd0>,\n",
       " <matplotlib.lines.Line2D at 0x7f5a087a4e90>,\n",
       " <matplotlib.lines.Line2D at 0x7f5a087a8090>,\n",
       " <matplotlib.lines.Line2D at 0x7f5a087a8250>,\n",
       " <matplotlib.lines.Line2D at 0x7f5a087a8410>,\n",
       " <matplotlib.lines.Line2D at 0x7f5a087a85d0>,\n",
       " <matplotlib.lines.Line2D at 0x7f5a087a8790>,\n",
       " <matplotlib.lines.Line2D at 0x7f5a087a8950>,\n",
       " <matplotlib.lines.Line2D at 0x7f5a087a8b10>,\n",
       " <matplotlib.lines.Line2D at 0x7f5a087a8cd0>,\n",
       " <matplotlib.lines.Line2D at 0x7f5a087a8e90>,\n",
       " <matplotlib.lines.Line2D at 0x7f5a087ac090>,\n",
       " <matplotlib.lines.Line2D at 0x7f5a087ac250>,\n",
       " <matplotlib.lines.Line2D at 0x7f5a087ac410>,\n",
       " <matplotlib.lines.Line2D at 0x7f5a087ac5d0>,\n",
       " <matplotlib.lines.Line2D at 0x7f5a087ac790>,\n",
       " <matplotlib.lines.Line2D at 0x7f5a087ac950>,\n",
       " <matplotlib.lines.Line2D at 0x7f5a087acb10>,\n",
       " <matplotlib.lines.Line2D at 0x7f5a087accd0>,\n",
       " <matplotlib.lines.Line2D at 0x7f5a087ace90>,\n",
       " <matplotlib.lines.Line2D at 0x7f5a087b1090>,\n",
       " <matplotlib.lines.Line2D at 0x7f5a087b1250>,\n",
       " <matplotlib.lines.Line2D at 0x7f5a087b1410>,\n",
       " <matplotlib.lines.Line2D at 0x7f5a087b15d0>,\n",
       " <matplotlib.lines.Line2D at 0x7f5a087b1790>,\n",
       " <matplotlib.lines.Line2D at 0x7f5a087b1950>,\n",
       " <matplotlib.lines.Line2D at 0x7f5a087b1b10>,\n",
       " <matplotlib.lines.Line2D at 0x7f5a087b1cd0>,\n",
       " <matplotlib.lines.Line2D at 0x7f5a087b1e90>,\n",
       " <matplotlib.lines.Line2D at 0x7f5a087b5090>,\n",
       " <matplotlib.lines.Line2D at 0x7f5a087b5250>,\n",
       " <matplotlib.lines.Line2D at 0x7f5a3012ead0>,\n",
       " <matplotlib.lines.Line2D at 0x7f5a087b5590>,\n",
       " <matplotlib.lines.Line2D at 0x7f5a087b5750>,\n",
       " <matplotlib.lines.Line2D at 0x7f5a087b5910>,\n",
       " <matplotlib.lines.Line2D at 0x7f5a087b5ad0>,\n",
       " <matplotlib.lines.Line2D at 0x7f5a087b5c90>,\n",
       " <matplotlib.lines.Line2D at 0x7f5a087b5e50>,\n",
       " <matplotlib.lines.Line2D at 0x7f5a087b5fd0>,\n",
       " <matplotlib.lines.Line2D at 0x7f5a0873a210>,\n",
       " <matplotlib.lines.Line2D at 0x7f5a0873a3d0>,\n",
       " <matplotlib.lines.Line2D at 0x7f5a0873a590>,\n",
       " <matplotlib.lines.Line2D at 0x7f5a0873a750>,\n",
       " <matplotlib.lines.Line2D at 0x7f5a0873a910>,\n",
       " <matplotlib.lines.Line2D at 0x7f5a0873aad0>,\n",
       " <matplotlib.lines.Line2D at 0x7f5a0873ac90>,\n",
       " <matplotlib.lines.Line2D at 0x7f5a0873ae50>,\n",
       " <matplotlib.lines.Line2D at 0x7f5a0873afd0>,\n",
       " <matplotlib.lines.Line2D at 0x7f5a0873e210>,\n",
       " <matplotlib.lines.Line2D at 0x7f5a0873e3d0>,\n",
       " <matplotlib.lines.Line2D at 0x7f5a0873e590>,\n",
       " <matplotlib.lines.Line2D at 0x7f5a0873e750>,\n",
       " <matplotlib.lines.Line2D at 0x7f5a0873e910>,\n",
       " <matplotlib.lines.Line2D at 0x7f5a0873ead0>,\n",
       " <matplotlib.lines.Line2D at 0x7f5a0873ec90>,\n",
       " <matplotlib.lines.Line2D at 0x7f5a0873ee50>,\n",
       " <matplotlib.lines.Line2D at 0x7f5a0873efd0>,\n",
       " <matplotlib.lines.Line2D at 0x7f5a08742210>,\n",
       " <matplotlib.lines.Line2D at 0x7f5a087423d0>,\n",
       " <matplotlib.lines.Line2D at 0x7f5a08742590>,\n",
       " <matplotlib.lines.Line2D at 0x7f5a08742750>,\n",
       " <matplotlib.lines.Line2D at 0x7f5a08742910>,\n",
       " <matplotlib.lines.Line2D at 0x7f5a08742ad0>,\n",
       " <matplotlib.lines.Line2D at 0x7f5a08785cd0>,\n",
       " <matplotlib.lines.Line2D at 0x7f5a08742dd0>,\n",
       " <matplotlib.lines.Line2D at 0x7f5a08742f90>,\n",
       " <matplotlib.lines.Line2D at 0x7f5a08746190>,\n",
       " <matplotlib.lines.Line2D at 0x7f5a08746350>,\n",
       " <matplotlib.lines.Line2D at 0x7f5a08746510>,\n",
       " <matplotlib.lines.Line2D at 0x7f5a087466d0>,\n",
       " <matplotlib.lines.Line2D at 0x7f5a08746890>,\n",
       " <matplotlib.lines.Line2D at 0x7f5a08746a50>,\n",
       " <matplotlib.lines.Line2D at 0x7f5a08746c10>,\n",
       " <matplotlib.lines.Line2D at 0x7f5a08746dd0>,\n",
       " <matplotlib.lines.Line2D at 0x7f5a08746f90>,\n",
       " <matplotlib.lines.Line2D at 0x7f5a0874a190>,\n",
       " <matplotlib.lines.Line2D at 0x7f5a0874a350>,\n",
       " <matplotlib.lines.Line2D at 0x7f5a0874a510>,\n",
       " <matplotlib.lines.Line2D at 0x7f5a0874a6d0>,\n",
       " <matplotlib.lines.Line2D at 0x7f5a0874a890>,\n",
       " <matplotlib.lines.Line2D at 0x7f5a0874aa50>,\n",
       " <matplotlib.lines.Line2D at 0x7f5a0874ac10>,\n",
       " <matplotlib.lines.Line2D at 0x7f5a0874add0>,\n",
       " <matplotlib.lines.Line2D at 0x7f5a0874af90>,\n",
       " <matplotlib.lines.Line2D at 0x7f5a0874e190>,\n",
       " <matplotlib.lines.Line2D at 0x7f5a0874e350>,\n",
       " <matplotlib.lines.Line2D at 0x7f5a0874e510>,\n",
       " <matplotlib.lines.Line2D at 0x7f5a0874e6d0>,\n",
       " <matplotlib.lines.Line2D at 0x7f5a0874e890>,\n",
       " <matplotlib.lines.Line2D at 0x7f5a0874ea50>,\n",
       " <matplotlib.lines.Line2D at 0x7f5a0874ec10>,\n",
       " <matplotlib.lines.Line2D at 0x7f5a0874edd0>,\n",
       " <matplotlib.lines.Line2D at 0x7f5a0874ef90>,\n",
       " <matplotlib.lines.Line2D at 0x7f5a08753190>,\n",
       " <matplotlib.lines.Line2D at 0x7f5a08753350>,\n",
       " <matplotlib.lines.Line2D at 0x7f5a08753510>,\n",
       " <matplotlib.lines.Line2D at 0x7f5a087536d0>,\n",
       " <matplotlib.lines.Line2D at 0x7f5a08753890>,\n",
       " <matplotlib.lines.Line2D at 0x7f5a08753a50>,\n",
       " <matplotlib.lines.Line2D at 0x7f5a08753c10>,\n",
       " <matplotlib.lines.Line2D at 0x7f5a08753dd0>,\n",
       " <matplotlib.lines.Line2D at 0x7f5a08753f90>,\n",
       " <matplotlib.lines.Line2D at 0x7f5a08757190>,\n",
       " <matplotlib.lines.Line2D at 0x7f5a08757350>,\n",
       " <matplotlib.lines.Line2D at 0x7f5a08757510>,\n",
       " <matplotlib.lines.Line2D at 0x7f5a087576d0>,\n",
       " <matplotlib.lines.Line2D at 0x7f5a08757890>,\n",
       " <matplotlib.lines.Line2D at 0x7f5a08757a50>,\n",
       " <matplotlib.lines.Line2D at 0x7f5a08757c10>,\n",
       " <matplotlib.lines.Line2D at 0x7f5a08757dd0>,\n",
       " <matplotlib.lines.Line2D at 0x7f5a08757f90>,\n",
       " <matplotlib.lines.Line2D at 0x7f5a0875c190>,\n",
       " <matplotlib.lines.Line2D at 0x7f5a0875c350>,\n",
       " <matplotlib.lines.Line2D at 0x7f5a0875c510>,\n",
       " <matplotlib.lines.Line2D at 0x7f5a0875c6d0>,\n",
       " <matplotlib.lines.Line2D at 0x7f5a0875c890>,\n",
       " <matplotlib.lines.Line2D at 0x7f5a0875ca50>,\n",
       " <matplotlib.lines.Line2D at 0x7f5a0875cc10>,\n",
       " <matplotlib.lines.Line2D at 0x7f5a0875cdd0>,\n",
       " <matplotlib.lines.Line2D at 0x7f5a0875cf90>,\n",
       " <matplotlib.lines.Line2D at 0x7f5a08760190>,\n",
       " <matplotlib.lines.Line2D at 0x7f5a08760350>,\n",
       " <matplotlib.lines.Line2D at 0x7f5a08760510>,\n",
       " <matplotlib.lines.Line2D at 0x7f5a087606d0>,\n",
       " <matplotlib.lines.Line2D at 0x7f5a08760890>,\n",
       " <matplotlib.lines.Line2D at 0x7f5a08760a50>,\n",
       " <matplotlib.lines.Line2D at 0x7f5a08760c10>,\n",
       " <matplotlib.lines.Line2D at 0x7f5a08760dd0>,\n",
       " <matplotlib.lines.Line2D at 0x7f5a08760f90>,\n",
       " <matplotlib.lines.Line2D at 0x7f5a08764190>,\n",
       " <matplotlib.lines.Line2D at 0x7f5a08764350>,\n",
       " <matplotlib.lines.Line2D at 0x7f5a08764510>,\n",
       " <matplotlib.lines.Line2D at 0x7f5a087646d0>,\n",
       " <matplotlib.lines.Line2D at 0x7f5a08764890>,\n",
       " <matplotlib.lines.Line2D at 0x7f5a08764a50>,\n",
       " <matplotlib.lines.Line2D at 0x7f5a08764c10>,\n",
       " <matplotlib.lines.Line2D at 0x7f5a08764dd0>,\n",
       " <matplotlib.lines.Line2D at 0x7f5a08764f90>,\n",
       " <matplotlib.lines.Line2D at 0x7f5a08768190>,\n",
       " <matplotlib.lines.Line2D at 0x7f5a08768350>,\n",
       " <matplotlib.lines.Line2D at 0x7f5a08768510>,\n",
       " <matplotlib.lines.Line2D at 0x7f5a087686d0>,\n",
       " <matplotlib.lines.Line2D at 0x7f5a08768890>,\n",
       " <matplotlib.lines.Line2D at 0x7f5a08768a50>,\n",
       " <matplotlib.lines.Line2D at 0x7f5a08768c10>,\n",
       " <matplotlib.lines.Line2D at 0x7f5a08768dd0>,\n",
       " <matplotlib.lines.Line2D at 0x7f5a08768f90>,\n",
       " <matplotlib.lines.Line2D at 0x7f5a0876d190>,\n",
       " <matplotlib.lines.Line2D at 0x7f5a0876d350>,\n",
       " <matplotlib.lines.Line2D at 0x7f5a0876d510>,\n",
       " <matplotlib.lines.Line2D at 0x7f5a0876d6d0>,\n",
       " <matplotlib.lines.Line2D at 0x7f5a0876d890>,\n",
       " <matplotlib.lines.Line2D at 0x7f5a0876da50>,\n",
       " <matplotlib.lines.Line2D at 0x7f5a0876dc10>,\n",
       " <matplotlib.lines.Line2D at 0x7f5a0876ddd0>,\n",
       " <matplotlib.lines.Line2D at 0x7f5a0876df90>,\n",
       " <matplotlib.lines.Line2D at 0x7f5a08771190>,\n",
       " <matplotlib.lines.Line2D at 0x7f5a08771350>,\n",
       " <matplotlib.lines.Line2D at 0x7f5a08771510>,\n",
       " <matplotlib.lines.Line2D at 0x7f5a087716d0>,\n",
       " <matplotlib.lines.Line2D at 0x7f5a08771890>,\n",
       " <matplotlib.lines.Line2D at 0x7f5a08771a50>,\n",
       " <matplotlib.lines.Line2D at 0x7f5a08771c10>,\n",
       " <matplotlib.lines.Line2D at 0x7f5a08771dd0>,\n",
       " <matplotlib.lines.Line2D at 0x7f5a08771f90>,\n",
       " <matplotlib.lines.Line2D at 0x7f5a08775190>,\n",
       " <matplotlib.lines.Line2D at 0x7f5a08775350>,\n",
       " <matplotlib.lines.Line2D at 0x7f5a08775510>,\n",
       " <matplotlib.lines.Line2D at 0x7f5a087756d0>,\n",
       " <matplotlib.lines.Line2D at 0x7f5a08775890>,\n",
       " <matplotlib.lines.Line2D at 0x7f5a08775a50>]"
      ]
     },
     "execution_count": 67,
     "metadata": {},
     "output_type": "execute_result"
    }
   ],
   "source": [
    "plt.plot(image[:,:,0])"
   ]
  },
  {
   "cell_type": "code",
   "execution_count": 54,
   "metadata": {},
   "outputs": [
    {
     "data": {
      "text/plain": [
       "248"
      ]
     },
     "execution_count": 54,
     "metadata": {},
     "output_type": "execute_result"
    }
   ],
   "source": [
    "image.max()"
   ]
  },
  {
   "cell_type": "code",
   "execution_count": 59,
   "metadata": {},
   "outputs": [
    {
     "data": {
      "text/plain": [
       "<Figure size 640x480 with 0 Axes>"
      ]
     },
     "execution_count": 59,
     "metadata": {},
     "output_type": "execute_result"
    }
   ],
   "source": [
    "plt.figure()"
   ]
  },
  {
   "cell_type": "code",
   "execution_count": 60,
   "metadata": {},
   "outputs": [
    {
     "name": "stderr",
     "output_type": "stream",
     "text": [
      "/data/vision/torralba/frames/tools/anaconda3/envs/vh_challenge/lib/python3.7/site-packages/ipykernel_launcher.py:1: MatplotlibDeprecationWarning: Passing the block parameter of show() positionally is deprecated since Matplotlib 3.1; the parameter will become keyword-only in 3.3.\n",
      "  \"\"\"Entry point for launching an IPython kernel.\n"
     ]
    }
   ],
   "source": [
    "plt.show([3,2])"
   ]
  },
  {
   "cell_type": "code",
   "execution_count": null,
   "metadata": {},
   "outputs": [],
   "source": []
  }
 ],
 "metadata": {
  "kernelspec": {
   "display_name": "Python 3",
   "language": "python",
   "name": "python3"
  },
  "language_info": {
   "codemirror_mode": {
    "name": "ipython",
    "version": 3
   },
   "file_extension": ".py",
   "mimetype": "text/x-python",
   "name": "python",
   "nbconvert_exporter": "python",
   "pygments_lexer": "ipython3",
   "version": "3.7.6"
  }
 },
 "nbformat": 4,
 "nbformat_minor": 4
}
